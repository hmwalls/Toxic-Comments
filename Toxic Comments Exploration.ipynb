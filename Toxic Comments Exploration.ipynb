{
 "cells": [
  {
   "cell_type": "code",
   "execution_count": null,
   "metadata": {},
   "outputs": [],
   "source": [
    "import pandas as pd\n",
    "import numpy as np\n",
    "import scipy.stats as stats\n",
    "import datetime\n",
    "\n",
    "from sklearn.feature_extraction.text import TfidfVectorizer"
   ]
  },
  {
   "cell_type": "code",
   "execution_count": null,
   "metadata": {},
   "outputs": [],
   "source": [
    "unan_comments = pd.read_csv('toxicity_annotated_comments_unanimous.tsv', sep='\\t')\n",
    "unan_scores = pd.read_csv('toxicity_annotations_unanimous.tsv', sep='\\t')\n",
    "\n",
    "# remove newline and tab tokens\n",
    "unan_comments['comment'] = unan_comments['comment'].apply(lambda x: x.replace(\"NEWLINE_TOKEN\", \" \"))\n",
    "unan_comments['comment'] = unan_comments['comment'].apply(lambda x: x.replace(\"TAB_TOKEN\", \" \"))"
   ]
  },
  {
   "cell_type": "code",
   "execution_count": null,
   "metadata": {},
   "outputs": [],
   "source": [
    "comment_score = pd.merge(unan_comments, unan_scores, on='rev_id')\n",
    "split = comment_score.groupby('toxicity')\n",
    "\n",
    "toxic_group = split.get_group(1).groupby('comment')\n",
    "nontoxic_group = split.get_group(0).groupby('comment')\n",
    "\n",
    "toxics = []\n",
    "nontoxics = []\n",
    "\n",
    "for name, group in toxic_group:\n",
    "    toxics.append(name)\n",
    "\n",
    "for name, group in nontoxic_group:\n",
    "    nontoxics.append(name)"
   ]
  },
  {
   "cell_type": "code",
   "execution_count": null,
   "metadata": {},
   "outputs": [],
   "source": [
    "# create the transform\n",
    "vectorizer = TfidfVectorizer()\n",
    "# tokenize and build vocab\n",
    "vectorizer.fit(toxics)\n"
   ]
  },
  {
   "cell_type": "code",
   "execution_count": null,
   "metadata": {},
   "outputs": [],
   "source": [
    "# summarize\n",
    "print(vectorizer.vocabulary_)\n",
    "print(vectorizer.idf_)"
   ]
  }
 ],
 "metadata": {
  "kernelspec": {
   "display_name": "Python 3",
   "language": "python",
   "name": "python3"
  },
  "language_info": {
   "codemirror_mode": {
    "name": "ipython",
    "version": 3
   },
   "file_extension": ".py",
   "mimetype": "text/x-python",
   "name": "python",
   "nbconvert_exporter": "python",
   "pygments_lexer": "ipython3",
   "version": "3.6.3"
  }
 },
 "nbformat": 4,
 "nbformat_minor": 2
}
